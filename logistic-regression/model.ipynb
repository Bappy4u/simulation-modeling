{
 "cells": [
  {
   "cell_type": "code",
   "execution_count": 3,
   "id": "725f4a6f",
   "metadata": {},
   "outputs": [
    {
     "name": "stdout",
     "output_type": "stream",
     "text": [
      "Najmul Hossain\n",
      "CSE1802014027,14A\n",
      "Course Title: Simulation and Modeling Sessional\n",
      "Course Code: 424\n"
     ]
    }
   ],
   "source": [
    "print(\"Najmul Hossain\\nCSE1802014027,14A\\nCourse Title: Simulation and Modeling Sessional\\nCourse Code: 424\")"
   ]
  },
  {
   "cell_type": "code",
   "execution_count": 4,
   "id": "49b0190d",
   "metadata": {},
   "outputs": [],
   "source": [
    "import pandas as pd\n",
    "dataset = pd.read_csv(\"dataset.csv\")"
   ]
  },
  {
   "cell_type": "code",
   "execution_count": 5,
   "id": "8e5ee4b5",
   "metadata": {},
   "outputs": [
    {
     "data": {
      "text/html": [
       "<div>\n",
       "<style scoped>\n",
       "    .dataframe tbody tr th:only-of-type {\n",
       "        vertical-align: middle;\n",
       "    }\n",
       "\n",
       "    .dataframe tbody tr th {\n",
       "        vertical-align: top;\n",
       "    }\n",
       "\n",
       "    .dataframe thead th {\n",
       "        text-align: right;\n",
       "    }\n",
       "</style>\n",
       "<table border=\"1\" class=\"dataframe\">\n",
       "  <thead>\n",
       "    <tr style=\"text-align: right;\">\n",
       "      <th></th>\n",
       "      <th>age</th>\n",
       "      <th>has_facebook_account</th>\n",
       "    </tr>\n",
       "  </thead>\n",
       "  <tbody>\n",
       "    <tr>\n",
       "      <th>15</th>\n",
       "      <td>67</td>\n",
       "      <td>0.0</td>\n",
       "    </tr>\n",
       "    <tr>\n",
       "      <th>16</th>\n",
       "      <td>1</td>\n",
       "      <td>0.0</td>\n",
       "    </tr>\n",
       "    <tr>\n",
       "      <th>17</th>\n",
       "      <td>26</td>\n",
       "      <td>1.0</td>\n",
       "    </tr>\n",
       "    <tr>\n",
       "      <th>18</th>\n",
       "      <td>22</td>\n",
       "      <td>NaN</td>\n",
       "    </tr>\n",
       "    <tr>\n",
       "      <th>19</th>\n",
       "      <td>23</td>\n",
       "      <td>1.0</td>\n",
       "    </tr>\n",
       "  </tbody>\n",
       "</table>\n",
       "</div>"
      ],
      "text/plain": [
       "    age  has_facebook_account\n",
       "15   67                   0.0\n",
       "16    1                   0.0\n",
       "17   26                   1.0\n",
       "18   22                   NaN\n",
       "19   23                   1.0"
      ]
     },
     "execution_count": 5,
     "metadata": {},
     "output_type": "execute_result"
    }
   ],
   "source": [
    "# to show the last 5 data\n",
    "dataset.iloc[-5:]"
   ]
  },
  {
   "cell_type": "code",
   "execution_count": 6,
   "id": "1ceb94d5",
   "metadata": {},
   "outputs": [
    {
     "data": {
      "text/plain": [
       "(20, 2)"
      ]
     },
     "execution_count": 6,
     "metadata": {},
     "output_type": "execute_result"
    }
   ],
   "source": [
    "# Function to number of colums and rows in the dataset\n",
    "dataset.shape"
   ]
  },
  {
   "cell_type": "code",
   "execution_count": 7,
   "id": "2735abe2",
   "metadata": {},
   "outputs": [
    {
     "name": "stdout",
     "output_type": "stream",
     "text": [
      "Number of missing data of each rows:\n",
      "age                     0\n",
      "has_facebook_account    1\n",
      "dtype: int64\n"
     ]
    }
   ],
   "source": [
    "print(\"Number of missing data of each rows:\")\n",
    "print(dataset.isnull().sum())"
   ]
  },
  {
   "cell_type": "code",
   "execution_count": 8,
   "id": "26706221",
   "metadata": {},
   "outputs": [
    {
     "name": "stdout",
     "output_type": "stream",
     "text": [
      "    age  has_facebook_account\n",
      "0    24                   1.0\n",
      "1    21                   1.0\n",
      "2    10                   0.0\n",
      "3    58                   1.0\n",
      "4    16                   0.0\n",
      "5    56                   0.0\n",
      "6    28                   1.0\n",
      "7    13                   0.0\n",
      "8    18                   1.0\n",
      "9    17                   1.0\n",
      "10   80                   0.0\n",
      "11   12                   0.0\n",
      "12   44                   1.0\n",
      "13    6                   0.0\n",
      "14   25                   1.0\n",
      "15   67                   0.0\n",
      "16    1                   0.0\n",
      "17   26                   1.0\n",
      "18   22                   NaN\n",
      "19   23                   1.0\n"
     ]
    }
   ],
   "source": [
    "print(dataset)"
   ]
  },
  {
   "cell_type": "code",
   "execution_count": 25,
   "id": "63847676",
   "metadata": {},
   "outputs": [
    {
     "data": {
      "text/html": [
       "<div>\n",
       "<style scoped>\n",
       "    .dataframe tbody tr th:only-of-type {\n",
       "        vertical-align: middle;\n",
       "    }\n",
       "\n",
       "    .dataframe tbody tr th {\n",
       "        vertical-align: top;\n",
       "    }\n",
       "\n",
       "    .dataframe thead th {\n",
       "        text-align: right;\n",
       "    }\n",
       "</style>\n",
       "<table border=\"1\" class=\"dataframe\">\n",
       "  <thead>\n",
       "    <tr style=\"text-align: right;\">\n",
       "      <th></th>\n",
       "      <th>age</th>\n",
       "      <th>has_facebook_account</th>\n",
       "    </tr>\n",
       "  </thead>\n",
       "  <tbody>\n",
       "    <tr>\n",
       "      <th>0</th>\n",
       "      <td>24</td>\n",
       "      <td>1.0</td>\n",
       "    </tr>\n",
       "    <tr>\n",
       "      <th>1</th>\n",
       "      <td>21</td>\n",
       "      <td>1.0</td>\n",
       "    </tr>\n",
       "    <tr>\n",
       "      <th>2</th>\n",
       "      <td>10</td>\n",
       "      <td>0.0</td>\n",
       "    </tr>\n",
       "    <tr>\n",
       "      <th>3</th>\n",
       "      <td>58</td>\n",
       "      <td>1.0</td>\n",
       "    </tr>\n",
       "    <tr>\n",
       "      <th>4</th>\n",
       "      <td>16</td>\n",
       "      <td>0.0</td>\n",
       "    </tr>\n",
       "    <tr>\n",
       "      <th>5</th>\n",
       "      <td>56</td>\n",
       "      <td>0.0</td>\n",
       "    </tr>\n",
       "    <tr>\n",
       "      <th>6</th>\n",
       "      <td>28</td>\n",
       "      <td>1.0</td>\n",
       "    </tr>\n",
       "    <tr>\n",
       "      <th>7</th>\n",
       "      <td>13</td>\n",
       "      <td>0.0</td>\n",
       "    </tr>\n",
       "    <tr>\n",
       "      <th>8</th>\n",
       "      <td>18</td>\n",
       "      <td>1.0</td>\n",
       "    </tr>\n",
       "    <tr>\n",
       "      <th>9</th>\n",
       "      <td>17</td>\n",
       "      <td>1.0</td>\n",
       "    </tr>\n",
       "    <tr>\n",
       "      <th>10</th>\n",
       "      <td>80</td>\n",
       "      <td>0.0</td>\n",
       "    </tr>\n",
       "    <tr>\n",
       "      <th>11</th>\n",
       "      <td>12</td>\n",
       "      <td>0.0</td>\n",
       "    </tr>\n",
       "    <tr>\n",
       "      <th>12</th>\n",
       "      <td>44</td>\n",
       "      <td>1.0</td>\n",
       "    </tr>\n",
       "    <tr>\n",
       "      <th>13</th>\n",
       "      <td>6</td>\n",
       "      <td>0.0</td>\n",
       "    </tr>\n",
       "    <tr>\n",
       "      <th>14</th>\n",
       "      <td>25</td>\n",
       "      <td>1.0</td>\n",
       "    </tr>\n",
       "    <tr>\n",
       "      <th>15</th>\n",
       "      <td>67</td>\n",
       "      <td>0.0</td>\n",
       "    </tr>\n",
       "    <tr>\n",
       "      <th>16</th>\n",
       "      <td>1</td>\n",
       "      <td>0.0</td>\n",
       "    </tr>\n",
       "    <tr>\n",
       "      <th>17</th>\n",
       "      <td>26</td>\n",
       "      <td>1.0</td>\n",
       "    </tr>\n",
       "    <tr>\n",
       "      <th>18</th>\n",
       "      <td>22</td>\n",
       "      <td>1.0</td>\n",
       "    </tr>\n",
       "    <tr>\n",
       "      <th>19</th>\n",
       "      <td>23</td>\n",
       "      <td>1.0</td>\n",
       "    </tr>\n",
       "  </tbody>\n",
       "</table>\n",
       "</div>"
      ],
      "text/plain": [
       "    age  has_facebook_account\n",
       "0    24                   1.0\n",
       "1    21                   1.0\n",
       "2    10                   0.0\n",
       "3    58                   1.0\n",
       "4    16                   0.0\n",
       "5    56                   0.0\n",
       "6    28                   1.0\n",
       "7    13                   0.0\n",
       "8    18                   1.0\n",
       "9    17                   1.0\n",
       "10   80                   0.0\n",
       "11   12                   0.0\n",
       "12   44                   1.0\n",
       "13    6                   0.0\n",
       "14   25                   1.0\n",
       "15   67                   0.0\n",
       "16    1                   0.0\n",
       "17   26                   1.0\n",
       "18   22                   1.0\n",
       "19   23                   1.0"
      ]
     },
     "execution_count": 25,
     "metadata": {},
     "output_type": "execute_result"
    }
   ],
   "source": [
    "dataset.fillna(1)"
   ]
  },
  {
   "cell_type": "code",
   "execution_count": 62,
   "id": "f5d80dba",
   "metadata": {},
   "outputs": [
    {
     "name": "stdout",
     "output_type": "stream",
     "text": [
      "The total percentage (%) of Facebook users of age 0-17:  14.285714285714285 %\n"
     ]
    }
   ],
   "source": [
    "dataset[\"is_age_0-17\"] = dataset.age.between(0,17)\n",
    "users_lt_17 = dataset[dataset[\"is_age_0-17\"]==True]\n",
    "has_account_lt_17 = len(users_lt_17[users_lt_17[\"has_facebook_account\"]==1])\n",
    "percentage_of_lt_17 = has_account_lt_17 / len(users_lt_17)  * 100\n",
    "print(\"The total percentage (%) of Facebook users of age 0-17: \", percentage_of_lt_17, \"%\")"
   ]
  },
  {
   "cell_type": "code",
   "execution_count": 52,
   "id": "653bb8ce",
   "metadata": {},
   "outputs": [
    {
     "name": "stdout",
     "output_type": "stream",
     "text": [
      "The total percentage (%) of Facebook users of age 18-40:  87.5 %\n"
     ]
    }
   ],
   "source": [
    "dataset[\"is_age_18-40\"] = dataset.age.between(18, 40)\n",
    "users_between_18_40 = dataset[dataset[\"is_age_18-40\"]==True]\n",
    "has_account_between_18_40 = len(users_between_18_40[users_between_18_40[\"has_facebook_account\"] == 1])\n",
    "percentage_of_between_18_40 = has_account_between_18_40 / len(users_between_18_40) * 100\n",
    "print(\"The total percentage (%) of Facebook users of age 18-40: \", percentage_of_between_18_40, \"%\")"
   ]
  },
  {
   "cell_type": "code",
   "execution_count": 63,
   "id": "10c6ca58",
   "metadata": {},
   "outputs": [
    {
     "name": "stdout",
     "output_type": "stream",
     "text": [
      "    age  has_facebook_account  is_age_0-17  is_age_18-40  is_age_gt_40\n",
      "3    58                   1.0        False         False          True\n",
      "5    56                   0.0        False         False          True\n",
      "10   80                   0.0        False         False          True\n",
      "12   44                   1.0        False         False          True\n",
      "15   67                   0.0        False         False          True\n",
      "The total percentage (%) of Facebook users of age greater than 40:  40.0 %\n"
     ]
    }
   ],
   "source": [
    "dataset[\"is_age_gt_40\"] = dataset.age.gt(40)\n",
    "users_gt_40 = dataset[dataset[\"is_age_gt_40\"] == True]\n",
    "print(users_gt_40)\n",
    "has_account_gt_40 = len(users_gt_40[users_gt_40[\"has_facebook_account\"] == 1])\n",
    "percentage_gt_40 = has_account_gt_40 / len(users_gt_40) * 100\n",
    "print(\"The total percentage (%) of Facebook users of age greater than 40: \", percentage_gt_40, \"%\")"
   ]
  },
  {
   "cell_type": "code",
   "execution_count": 74,
   "id": "a24d174e",
   "metadata": {},
   "outputs": [],
   "source": [
    "import matplotlib.pyplot as plt\n",
    "%matplotlib inline\n",
    "x = dataset[['age']]\n",
    "y = dataset['has_facebook_account']\n",
    "dataset.has_facebook_account = dataset.has_facebook_account.fillna(1)"
   ]
  },
  {
   "cell_type": "code",
   "execution_count": 75,
   "id": "0d826a52",
   "metadata": {},
   "outputs": [],
   "source": [
    "from sklearn.model_selection import train_test_split\n",
    "\n",
    "xtrain,xtest,ytrain,ytest = train_test_split(x, y, test_size=.30, random_state=1)"
   ]
  },
  {
   "cell_type": "code",
   "execution_count": 76,
   "id": "6ad6404a",
   "metadata": {},
   "outputs": [
    {
     "data": {
      "text/html": [
       "<div>\n",
       "<style scoped>\n",
       "    .dataframe tbody tr th:only-of-type {\n",
       "        vertical-align: middle;\n",
       "    }\n",
       "\n",
       "    .dataframe tbody tr th {\n",
       "        vertical-align: top;\n",
       "    }\n",
       "\n",
       "    .dataframe thead th {\n",
       "        text-align: right;\n",
       "    }\n",
       "</style>\n",
       "<table border=\"1\" class=\"dataframe\">\n",
       "  <thead>\n",
       "    <tr style=\"text-align: right;\">\n",
       "      <th></th>\n",
       "      <th>age</th>\n",
       "    </tr>\n",
       "  </thead>\n",
       "  <tbody>\n",
       "    <tr>\n",
       "      <th>3</th>\n",
       "      <td>58</td>\n",
       "    </tr>\n",
       "    <tr>\n",
       "      <th>16</th>\n",
       "      <td>1</td>\n",
       "    </tr>\n",
       "    <tr>\n",
       "      <th>6</th>\n",
       "      <td>28</td>\n",
       "    </tr>\n",
       "    <tr>\n",
       "      <th>10</th>\n",
       "      <td>80</td>\n",
       "    </tr>\n",
       "    <tr>\n",
       "      <th>2</th>\n",
       "      <td>10</td>\n",
       "    </tr>\n",
       "    <tr>\n",
       "      <th>14</th>\n",
       "      <td>25</td>\n",
       "    </tr>\n",
       "  </tbody>\n",
       "</table>\n",
       "</div>"
      ],
      "text/plain": [
       "    age\n",
       "3    58\n",
       "16    1\n",
       "6    28\n",
       "10   80\n",
       "2    10\n",
       "14   25"
      ]
     },
     "execution_count": 76,
     "metadata": {},
     "output_type": "execute_result"
    }
   ],
   "source": [
    "xtest"
   ]
  },
  {
   "cell_type": "code",
   "execution_count": 77,
   "id": "cf1714bb",
   "metadata": {},
   "outputs": [
    {
     "data": {
      "text/plain": [
       "3     1.0\n",
       "16    0.0\n",
       "6     1.0\n",
       "10    0.0\n",
       "2     0.0\n",
       "14    1.0\n",
       "Name: has_facebook_account, dtype: float64"
      ]
     },
     "execution_count": 77,
     "metadata": {},
     "output_type": "execute_result"
    }
   ],
   "source": [
    "ytest"
   ]
  },
  {
   "cell_type": "code",
   "execution_count": 78,
   "id": "121fc0cb",
   "metadata": {},
   "outputs": [],
   "source": [
    "from sklearn.linear_model import LogisticRegression"
   ]
  },
  {
   "cell_type": "code",
   "execution_count": 79,
   "id": "bfafbb3c",
   "metadata": {},
   "outputs": [],
   "source": [
    "model = LogisticRegression()"
   ]
  },
  {
   "cell_type": "code",
   "execution_count": 80,
   "id": "559f4e9e",
   "metadata": {},
   "outputs": [
    {
     "data": {
      "text/plain": [
       "LogisticRegression()"
      ]
     },
     "execution_count": 80,
     "metadata": {},
     "output_type": "execute_result"
    }
   ],
   "source": [
    "model.fit(xtrain, ytrain)"
   ]
  },
  {
   "cell_type": "code",
   "execution_count": 113,
   "id": "24f957a1",
   "metadata": {},
   "outputs": [
    {
     "data": {
      "text/plain": [
       "array([1., 0.])"
      ]
     },
     "execution_count": 113,
     "metadata": {},
     "output_type": "execute_result"
    }
   ],
   "source": [
    "customPredict = train_test_split([21,70])\n",
    "model.predict(customPredict)\n",
    "    "
   ]
  },
  {
   "cell_type": "code",
   "execution_count": 114,
   "id": "3adc7c44",
   "metadata": {},
   "outputs": [
    {
     "data": {
      "text/plain": [
       "0.5"
      ]
     },
     "execution_count": 114,
     "metadata": {},
     "output_type": "execute_result"
    }
   ],
   "source": [
    "model.score(xtest, ytest)"
   ]
  },
  {
   "cell_type": "code",
   "execution_count": null,
   "id": "6dce815c",
   "metadata": {},
   "outputs": [],
   "source": []
  }
 ],
 "metadata": {
  "kernelspec": {
   "display_name": "Python 3 (ipykernel)",
   "language": "python",
   "name": "python3"
  },
  "language_info": {
   "codemirror_mode": {
    "name": "ipython",
    "version": 3
   },
   "file_extension": ".py",
   "mimetype": "text/x-python",
   "name": "python",
   "nbconvert_exporter": "python",
   "pygments_lexer": "ipython3",
   "version": "3.9.7"
  }
 },
 "nbformat": 4,
 "nbformat_minor": 5
}
